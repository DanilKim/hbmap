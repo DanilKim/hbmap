{
 "cells": [
  {
   "cell_type": "code",
   "execution_count": 2,
   "metadata": {},
   "outputs": [],
   "source": [
    "import os\n",
    "import random\n",
    "from pathlib import Path\n",
    "\n",
    "Path('/data/train_split_images').mkdir(exist_ok=True)\n",
    "Path('/data/train_split_masks').mkdir(exist_ok=True)\n",
    "Path('/data/val_split_images').mkdir(exist_ok=True)\n",
    "Path('/data/val_split_masks').mkdir(exist_ok=True)\n",
    "\n",
    "TRAIN_RATE = 0.9\n",
    "#VALID_RATE = 1 - TRAIN_RATE\n",
    "\n",
    "trainval_ids = [fn.split('.')[0] for fn in os.listdir('/data/train_images')]\n",
    "trainval_len = len(trainval_ids)\n",
    "random.shuffle(trainval_ids)\n",
    "\n",
    "train_ids = trainval_ids[0 : int(trainval_len * TRAIN_RATE)]\n",
    "val_ids = trainval_ids[int(trainval_len * TRAIN_RATE):]\n",
    "\n",
    "for tid in train_ids:\n",
    "    os.system('cp /data/train_images/' + tid + '.tiff /data/train_split_images/')\n",
    "    os.system('cp /data/train_masks/' + tid + '.png /data/train_split_masks/')\n",
    "for tid in val_ids:\n",
    "    os.system('cp /data/train_images/' + tid + '.tiff /data/val_split_images/')\n",
    "    os.system('cp /data/train_masks/' + tid + '.png /data/val_split_masks/')"
   ]
  },
  {
   "cell_type": "code",
   "execution_count": null,
   "metadata": {},
   "outputs": [],
   "source": []
  }
 ],
 "metadata": {
  "kernelspec": {
   "display_name": "Python 3.7.11 ('base')",
   "language": "python",
   "name": "python3"
  },
  "language_info": {
   "codemirror_mode": {
    "name": "ipython",
    "version": 3
   },
   "file_extension": ".py",
   "mimetype": "text/x-python",
   "name": "python",
   "nbconvert_exporter": "python",
   "pygments_lexer": "ipython3",
   "version": "3.7.11"
  },
  "orig_nbformat": 4,
  "vscode": {
   "interpreter": {
    "hash": "d4d1e4263499bec80672ea0156c357c1ee493ec2b1c70f0acce89fc37c4a6abe"
   }
  }
 },
 "nbformat": 4,
 "nbformat_minor": 2
}
