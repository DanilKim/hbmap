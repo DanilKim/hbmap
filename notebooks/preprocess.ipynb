{
 "cells": [
  {
   "cell_type": "code",
   "execution_count": 1,
   "metadata": {},
   "outputs": [
    {
     "ename": "TypeError",
     "evalue": "unsupported operand type(s) for +: 'int' and 'str'",
     "output_type": "error",
     "traceback": [
      "\u001b[0;31m---------------------------------------------------------------------------\u001b[0m",
      "\u001b[0;31mTypeError\u001b[0m                                 Traceback (most recent call last)",
      "\u001b[0;32m/tmp/ipykernel_218531/3771422098.py\u001b[0m in \u001b[0;36m<module>\u001b[0;34m\u001b[0m\n\u001b[1;32m     27\u001b[0m \u001b[0;34m\u001b[0m\u001b[0m\n\u001b[1;32m     28\u001b[0m     \u001b[0mim\u001b[0m \u001b[0;34m=\u001b[0m \u001b[0mImage\u001b[0m\u001b[0;34m.\u001b[0m\u001b[0mfromarray\u001b[0m\u001b[0;34m(\u001b[0m\u001b[0mmask\u001b[0m\u001b[0;34m)\u001b[0m\u001b[0;34m\u001b[0m\u001b[0;34m\u001b[0m\u001b[0m\n\u001b[0;32m---> 29\u001b[0;31m     \u001b[0mim\u001b[0m\u001b[0;34m.\u001b[0m\u001b[0msave\u001b[0m\u001b[0;34m(\u001b[0m\u001b[0mos\u001b[0m\u001b[0;34m.\u001b[0m\u001b[0mpath\u001b[0m\u001b[0;34m.\u001b[0m\u001b[0mjoin\u001b[0m\u001b[0;34m(\u001b[0m\u001b[0msave_path\u001b[0m\u001b[0;34m,\u001b[0m \u001b[0mrow\u001b[0m\u001b[0;34m[\u001b[0m\u001b[0;34m'id'\u001b[0m\u001b[0;34m]\u001b[0m \u001b[0;34m+\u001b[0m \u001b[0;34m'.png'\u001b[0m\u001b[0;34m)\u001b[0m\u001b[0;34m)\u001b[0m\u001b[0;34m\u001b[0m\u001b[0;34m\u001b[0m\u001b[0m\n\u001b[0m\u001b[1;32m     30\u001b[0m \u001b[0;34m\u001b[0m\u001b[0m\n\u001b[1;32m     31\u001b[0m \u001b[0;34m\u001b[0m\u001b[0m\n",
      "\u001b[0;31mTypeError\u001b[0m: unsupported operand type(s) for +: 'int' and 'str'"
     ]
    }
   ],
   "source": [
    "import os\n",
    "import pandas as pd\n",
    "import numpy as np\n",
    "from PIL import Image\n",
    "\n",
    "df = pd.read_csv('/data/train.csv')\n",
    "column_names = list(df.columns)\n",
    "\n",
    "save_path = '/data/train_masks'\n",
    "\n",
    "W = 3000\n",
    "H = 3000\n",
    "\n",
    "\n",
    "def create_mask(rle, w, h):\n",
    "    mask = np.zeros(h*w, dtype=np.byte)\n",
    "    for i in range(0, len(rle), 2):\n",
    "        mask[rle[i]: rle[i] + rle[i+1]] = 1\n",
    "    \n",
    "    mask = np.reshape(mask, (h, w))\n",
    "    return mask\n",
    "\n",
    "\n",
    "for id, row in df.iterrows():\n",
    "    rle = list(map(int, row['rle'].split(' ')))\n",
    "    mask = create_mask(rle, W, H)\n",
    "\n",
    "    im = Image.fromarray(mask)\n",
    "    im.save(os.path.join(save_path, str(row['id']) + '.png'))\n",
    "    \n",
    "\n",
    "    "
   ]
  },
  {
   "cell_type": "code",
   "execution_count": 2,
   "metadata": {},
   "outputs": [],
   "source": [
    "import os\n",
    "import json\n",
    "\n",
    "W = 3000\n",
    "H = 3000\n",
    "mx = 30\n",
    "my = 30\n",
    "bboxes = []\n",
    "\n",
    "\n",
    "def create_bbox(bd, w, h, margin_x, margin_y):\n",
    "    Min_Y1, Max_Y2, Min_X1, Max_X2 = h, 0, w, 0\n",
    "    for pix in bd:\n",
    "        Min_X1 = min(pix[0], Min_X1)\n",
    "        Max_X2 = max(pix[0], Max_X2)\n",
    "        Min_Y1 = min(pix[1], Min_Y1)\n",
    "        Max_Y2 = max(pix[1], Max_Y2)\n",
    "    \n",
    "    X = max(Min_X1 - margin_x, 0)\n",
    "    Y = max(Min_Y1 - margin_y, 0)\n",
    "    W = min(Max_X2 + margin_x, w) - X\n",
    "    H = min(Max_Y2 + margin_y, h) - Y\n",
    "    \n",
    "    return [ X, Y, W, H ]\n",
    "\n",
    "\n",
    "ann_dir = '/data/train_annotations'\n",
    "bbox_dir = '/data/train_bbox_annotations'\n",
    "for ann_f in os.listdir(ann_dir):\n",
    "    bboxes = []\n",
    "    with open(os.path.join(ann_dir, ann_f), \"r\") as rf:\n",
    "        ann = json.load(rf)\n",
    "        for ins in ann:\n",
    "            bboxes.append(create_bbox(ins, W, H, mx, my))\n",
    "\n",
    "    with open(os.path.join(bbox_dir, ann_f), \"w\") as wf:\n",
    "        json.dump(bboxes, wf)\n",
    "\n"
   ]
  },
  {
   "cell_type": "code",
   "execution_count": null,
   "metadata": {},
   "outputs": [],
   "source": []
  }
 ],
 "metadata": {
  "kernelspec": {
   "display_name": "Python 3.7.11 ('base')",
   "language": "python",
   "name": "python3"
  },
  "language_info": {
   "codemirror_mode": {
    "name": "ipython",
    "version": 3
   },
   "file_extension": ".py",
   "mimetype": "text/x-python",
   "name": "python",
   "nbconvert_exporter": "python",
   "pygments_lexer": "ipython3",
   "version": "3.7.11"
  },
  "orig_nbformat": 4,
  "vscode": {
   "interpreter": {
    "hash": "d4d1e4263499bec80672ea0156c357c1ee493ec2b1c70f0acce89fc37c4a6abe"
   }
  }
 },
 "nbformat": 4,
 "nbformat_minor": 2
}
