{
 "cells": [
  {
   "cell_type": "code",
   "execution_count": null,
   "metadata": {},
   "outputs": [],
   "source": [
    "import os\n",
    "import pandas as pd\n",
    "import numpy as np\n",
    "from PIL import Image\n",
    "\n",
    "df = pd.read_csv('/data/train.csv')\n",
    "column_names = list(df.columns)\n",
    "\n",
    "img_path = '/data/train_images'\n",
    "save_path = '/data/train_masks'\n",
    "\n",
    "\n",
    "def create_mask(rle, w, h):\n",
    "    mask = np.zeros(h*w, dtype=np.byte)\n",
    "    for i in range(0, len(rle), 2):\n",
    "        mask[rle[i]: rle[i] + rle[i+1]] = 1\n",
    "    \n",
    "    mask = np.reshape(mask, (h, w))\n",
    "    return mask\n",
    "\n",
    "\n",
    "for id, row in df.iterrows():\n",
    "    fn = os.path.join(img_path, str(row['id']) + '.tiff')\n",
    "    w, h = Image.open(fn).size\n",
    "\n",
    "    rle = list(map(int, row['rle'].split(' ')))\n",
    "    mask = create_mask(rle, w, h)\n",
    "\n",
    "    pil_mask = Image.fromarray(mask)\n",
    "    pil_mask.save(os.path.join(save_path, str(row['id']) + '.png'))"
   ]
  }
 ],
 "metadata": {
  "language_info": {
   "name": "python"
  },
  "orig_nbformat": 4
 },
 "nbformat": 4,
 "nbformat_minor": 2
}
