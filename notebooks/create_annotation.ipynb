{
 "cells": [
  {
   "cell_type": "code",
   "execution_count": null,
   "metadata": {},
   "outputs": [],
   "source": [
    "### create segmentation mask from  rle ###\n",
    "\n",
    "import os\n",
    "import pandas as pd\n",
    "import numpy as np\n",
    "from PIL import Image\n",
    "\n",
    "df = pd.read_csv('/data/train.csv')\n",
    "column_names = list(df.columns)\n",
    "\n",
    "img_path = '/data/train_images'\n",
    "save_path = '/data/train_masks'\n",
    "\n",
    "\n",
    "def create_mask(rle, w, h):\n",
    "    mask = np.zeros(h*w, dtype=np.byte)\n",
    "    for i in range(0, len(rle), 2):\n",
    "        mask[rle[i]: rle[i] + rle[i+1]] = 1\n",
    "    \n",
    "    mask = np.reshape(mask, (h, w))\n",
    "    return mask\n",
    "\n",
    "\n",
    "for id, row in df.iterrows():\n",
    "    fn = os.path.join(img_path, str(row['id']) + '.tiff')\n",
    "    w, h = Image.open(fn).size\n",
    "\n",
    "    rle = list(map(int, row['rle'].split(' ')))\n",
    "    mask = create_mask(rle, w, h)\n",
    "\n",
    "    pil_mask = Image.fromarray(mask)\n",
    "    pil_mask.save(os.path.join(save_path, str(row['id']) + '.png'))"
   ]
  },
  {
   "cell_type": "code",
   "execution_count": 39,
   "metadata": {},
   "outputs": [],
   "source": [
    "### create class index annotated txt file  ###\n",
    "\n",
    "CLASS_LABEL = {\n",
    "    'kidney': 0,\n",
    "    'largeintestine': 1,\n",
    "    'lung': 2,\n",
    "    'prostate': 3,\n",
    "    'spleen': 4\n",
    "}\n",
    "\n",
    "import os\n",
    "import pandas as pd\n",
    "import numpy as np\n",
    "from PIL import Image\n",
    "\n",
    "df = pd.read_csv('/data/train.csv')\n",
    "\n",
    "with open('/data/train_cls.txt', 'w') as outf:\n",
    "    with open('/data/train.txt', 'r') as inf:\n",
    "        for id in inf.readlines():\n",
    "            organ = df.loc[ df['id'] == int(id[:-1])]['organ'].to_string(index=False)\n",
    "            outf.writelines(str(id[:-1]) + ' ' + str(CLASS_LABEL[organ]) + '\\n')\n",
    "\n",
    "with open('/data/val_cls.txt', 'w') as outf:\n",
    "    with open('/data/val.txt', 'r') as inf:\n",
    "        for id in inf.readlines():\n",
    "            organ = df.loc[ df['id'] == int(id[:-1])]['organ'].to_string(index=False)\n",
    "            outf.writelines(str(id[:-1]) + ' ' + str(CLASS_LABEL[organ]) + '\\n')"
   ]
  },
  {
   "cell_type": "code",
   "execution_count": null,
   "metadata": {},
   "outputs": [],
   "source": []
  }
 ],
 "metadata": {
  "kernelspec": {
   "display_name": "Python 3.7.11 ('base')",
   "language": "python",
   "name": "python3"
  },
  "language_info": {
   "codemirror_mode": {
    "name": "ipython",
    "version": 3
   },
   "file_extension": ".py",
   "mimetype": "text/x-python",
   "name": "python",
   "nbconvert_exporter": "python",
   "pygments_lexer": "ipython3",
   "version": "3.7.11"
  },
  "orig_nbformat": 4,
  "vscode": {
   "interpreter": {
    "hash": "d4d1e4263499bec80672ea0156c357c1ee493ec2b1c70f0acce89fc37c4a6abe"
   }
  }
 },
 "nbformat": 4,
 "nbformat_minor": 2
}
