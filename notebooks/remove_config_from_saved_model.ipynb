{
 "cells": [
  {
   "cell_type": "code",
   "execution_count": 1,
   "metadata": {},
   "outputs": [],
   "source": [
    "import os\n",
    "import sys\n",
    "sys.path.insert(1, os.path.join(sys.path[0], '..'))\n",
    "from model import UNet, UNet_CNet\n",
    "\n",
    "import torch"
   ]
  },
  {
   "cell_type": "code",
   "execution_count": 3,
   "metadata": {},
   "outputs": [],
   "source": [
    "model_path = '../saved/models/HBMap_UNet_Multitask/0729_092042/model_best.pth'\n",
    "model = UNet_CNet(3, 5)\n",
    "checkpoint = torch.load(model_path)\n",
    "checkpoint.pop('config', None)\n",
    "torch.save(checkpoint, model_path[:-4]+'_submission.pth')"
   ]
  },
  {
   "cell_type": "code",
   "execution_count": 33,
   "metadata": {},
   "outputs": [
    {
     "name": "stdout",
     "output_type": "stream",
     "text": [
      "44\n",
      "122\n",
      "122\n"
     ]
    },
    {
     "ename": "RuntimeError",
     "evalue": "Error(s) in loading state_dict for UNet_CNet:\n\tMissing key(s) in state_dict: \"inc.double_conv.0.weight\", \"inc.double_conv.1.weight\", \"inc.double_conv.1.bias\", \"inc.double_conv.1.running_mean\", \"inc.double_conv.1.running_var\", \"inc.double_conv.3.weight\", \"inc.double_conv.4.weight\", \"inc.double_conv.4.bias\", \"inc.double_conv.4.running_mean\", \"inc.double_conv.4.running_var\", \"down1.maxpool_conv.1.double_conv.0.weight\", \"down1.maxpool_conv.1.double_conv.1.weight\", \"down1.maxpool_conv.1.double_conv.1.bias\", \"down1.maxpool_conv.1.double_conv.1.running_mean\", \"down1.maxpool_conv.1.double_conv.1.running_var\", \"down1.maxpool_conv.1.double_conv.3.weight\", \"down1.maxpool_conv.1.double_conv.4.weight\", \"down1.maxpool_conv.1.double_conv.4.bias\", \"down1.maxpool_conv.1.double_conv.4.running_mean\", \"down1.maxpool_conv.1.double_conv.4.running_var\", \"down2.maxpool_conv.1.double_conv.0.weight\", \"down2.maxpool_conv.1.double_conv.1.weight\", \"down2.maxpool_conv.1.double_conv.1.bias\", \"down2.maxpool_conv.1.double_conv.1.running_mean\", \"down2.maxpool_conv.1.double_conv.1.running_var\", \"down2.maxpool_conv.1.double_conv.3.weight\", \"down2.maxpool_conv.1.double_conv.4.weight\", \"down2.maxpool_conv.1.double_conv.4.bias\", \"down2.maxpool_conv.1.double_conv.4.running_mean\", \"down2.maxpool_conv.1.double_conv.4.running_var\", \"down3.maxpool_conv.1.double_conv.0.weight\", \"down3.maxpool_conv.1.double_conv.1.weight\", \"down3.maxpool_conv.1.double_conv.1.bias\", \"down3.maxpool_conv.1.double_conv.1.running_mean\", \"down3.maxpool_conv.1.double_conv.1.running_var\", \"down3.maxpool_conv.1.double_conv.3.weight\", \"down3.maxpool_conv.1.double_conv.4.weight\", \"down3.maxpool_conv.1.double_conv.4.bias\", \"down3.maxpool_conv.1.double_conv.4.running_mean\", \"down3.maxpool_conv.1.double_conv.4.running_var\", \"down4.maxpool_conv.1.double_conv.0.weight\", \"down4.maxpool_conv.1.double_conv.1.weight\", \"down4.maxpool_conv.1.double_conv.1.bias\", \"down4.maxpool_conv.1.double_conv.1.running_mean\", \"down4.maxpool_conv.1.double_conv.1.running_var\", \"down4.maxpool_conv.1.double_conv.3.weight\", \"down4.maxpool_conv.1.double_conv.4.weight\", \"down4.maxpool_conv.1.double_conv.4.bias\", \"down4.maxpool_conv.1.double_conv.4.running_mean\", \"down4.maxpool_conv.1.double_conv.4.running_var\", \"cnet.fc1.weight\", \"cnet.fc1.bias\", \"cnet.fc2.weight\", \"cnet.fc2.bias\", \"up1.up.weight\", \"up1.up.bias\", \"up1.conv.double_conv.0.weight\", \"up1.conv.double_conv.1.weight\", \"up1.conv.double_conv.1.bias\", \"up1.conv.double_conv.1.running_mean\", \"up1.conv.double_conv.1.running_var\", \"up1.conv.double_conv.3.weight\", \"up1.conv.double_conv.4.weight\", \"up1.conv.double_conv.4.bias\", \"up1.conv.double_conv.4.running_mean\", \"up1.conv.double_conv.4.running_var\", \"up2.up.weight\", \"up2.up.bias\", \"up2.conv.double_conv.0.weight\", \"up2.conv.double_conv.1.weight\", \"up2.conv.double_conv.1.bias\", \"up2.conv.double_conv.1.running_mean\", \"up2.conv.double_conv.1.running_var\", \"up2.conv.double_conv.3.weight\", \"up2.conv.double_conv.4.weight\", \"up2.conv.double_conv.4.bias\", \"up2.conv.double_conv.4.running_mean\", \"up2.conv.double_conv.4.running_var\", \"up3.up.weight\", \"up3.up.bias\", \"up3.conv.double_conv.0.weight\", \"up3.conv.double_conv.1.weight\", \"up3.conv.double_conv.1.bias\", \"up3.conv.double_conv.1.running_mean\", \"up3.conv.double_conv.1.running_var\", \"up3.conv.double_conv.3.weight\", \"up3.conv.double_conv.4.weight\", \"up3.conv.double_conv.4.bias\", \"up3.conv.double_conv.4.running_mean\", \"up3.conv.double_conv.4.running_var\", \"up4.up.weight\", \"up4.up.bias\", \"up4.conv.double_conv.0.weight\", \"up4.conv.double_conv.1.weight\", \"up4.conv.double_conv.1.bias\", \"up4.conv.double_conv.1.running_mean\", \"up4.conv.double_conv.1.running_var\", \"up4.conv.double_conv.3.weight\", \"up4.conv.double_conv.4.weight\", \"up4.conv.double_conv.4.bias\", \"up4.conv.double_conv.4.running_mean\", \"up4.conv.double_conv.4.running_var\", \"outc.conv.weight\", \"outc.conv.bias\". \n\tUnexpected key(s) in state_dict: \"double_conv.0.weight\", \"double_conv.1.weight\", \"double_conv.1.bias\", \"double_conv.1.running_mean\", \"double_conv.1.running_var\", \"double_conv.1.num_batches_tracked\", \"double_conv.3.weight\", \"double_conv.4.weight\", \"double_conv.4.bias\", \"double_conv.4.running_mean\", \"double_conv.4.running_var\", \"double_conv.4.num_batches_tracked\", \"maxpool_conv.1.double_conv.0.weight\", \"maxpool_conv.1.double_conv.1.weight\", \"maxpool_conv.1.double_conv.1.bias\", \"maxpool_conv.1.double_conv.1.running_mean\", \"maxpool_conv.1.double_conv.1.running_var\", \"maxpool_conv.1.double_conv.1.num_batches_tracked\", \"maxpool_conv.1.double_conv.3.weight\", \"maxpool_conv.1.double_conv.4.weight\", \"maxpool_conv.1.double_conv.4.bias\", \"maxpool_conv.1.double_conv.4.running_mean\", \"maxpool_conv.1.double_conv.4.running_var\", \"maxpool_conv.1.double_conv.4.num_batches_tracked\", \"fc1.weight\", \"fc1.bias\", \"fc2.weight\", \"fc2.bias\", \"up.weight\", \"up.bias\", \"conv.double_conv.0.weight\", \"conv.double_conv.1.weight\", \"conv.double_conv.1.bias\", \"conv.double_conv.1.running_mean\", \"conv.double_conv.1.running_var\", \"conv.double_conv.1.num_batches_tracked\", \"conv.double_conv.3.weight\", \"conv.double_conv.4.weight\", \"conv.double_conv.4.bias\", \"conv.double_conv.4.running_mean\", \"conv.double_conv.4.running_var\", \"conv.double_conv.4.num_batches_tracked\", \"conv.weight\", \"conv.bias\". ",
     "output_type": "error",
     "traceback": [
      "\u001b[0;31m---------------------------------------------------------------------------\u001b[0m",
      "\u001b[0;31mRuntimeError\u001b[0m                              Traceback (most recent call last)",
      "\u001b[0;32m/tmp/ipykernel_67820/3336294252.py\u001b[0m in \u001b[0;36m<module>\u001b[0;34m\u001b[0m\n\u001b[1;32m     10\u001b[0m \u001b[0mprint\u001b[0m\u001b[0;34m(\u001b[0m\u001b[0mlen\u001b[0m\u001b[0;34m(\u001b[0m\u001b[0mmodel\u001b[0m\u001b[0;34m.\u001b[0m\u001b[0mstate_dict\u001b[0m\u001b[0;34m(\u001b[0m\u001b[0;34m)\u001b[0m\u001b[0;34m.\u001b[0m\u001b[0mkeys\u001b[0m\u001b[0;34m(\u001b[0m\u001b[0;34m)\u001b[0m\u001b[0;34m)\u001b[0m\u001b[0;34m)\u001b[0m\u001b[0;34m\u001b[0m\u001b[0;34m\u001b[0m\u001b[0m\n\u001b[1;32m     11\u001b[0m \u001b[0;34m\u001b[0m\u001b[0m\n\u001b[0;32m---> 12\u001b[0;31m \u001b[0mmodel\u001b[0m\u001b[0;34m.\u001b[0m\u001b[0mload_state_dict\u001b[0m\u001b[0;34m(\u001b[0m\u001b[0mnew_sd\u001b[0m\u001b[0;34m)\u001b[0m\u001b[0;34m\u001b[0m\u001b[0;34m\u001b[0m\u001b[0m\n\u001b[0m\u001b[1;32m     13\u001b[0m \u001b[0;31m#print(checkpoint['state_dict'].keys())\u001b[0m\u001b[0;34m\u001b[0m\u001b[0;34m\u001b[0m\u001b[0;34m\u001b[0m\u001b[0m\n\u001b[1;32m     14\u001b[0m \u001b[0;31m#print(model.state_dict().keys())\u001b[0m\u001b[0;34m\u001b[0m\u001b[0;34m\u001b[0m\u001b[0;34m\u001b[0m\u001b[0m\n",
      "\u001b[0;32m/opt/conda/lib/python3.7/site-packages/torch/nn/modules/module.py\u001b[0m in \u001b[0;36mload_state_dict\u001b[0;34m(self, state_dict, strict)\u001b[0m\n\u001b[1;32m   1481\u001b[0m         \u001b[0;32mif\u001b[0m \u001b[0mlen\u001b[0m\u001b[0;34m(\u001b[0m\u001b[0merror_msgs\u001b[0m\u001b[0;34m)\u001b[0m \u001b[0;34m>\u001b[0m \u001b[0;36m0\u001b[0m\u001b[0;34m:\u001b[0m\u001b[0;34m\u001b[0m\u001b[0;34m\u001b[0m\u001b[0m\n\u001b[1;32m   1482\u001b[0m             raise RuntimeError('Error(s) in loading state_dict for {}:\\n\\t{}'.format(\n\u001b[0;32m-> 1483\u001b[0;31m                                self.__class__.__name__, \"\\n\\t\".join(error_msgs)))\n\u001b[0m\u001b[1;32m   1484\u001b[0m         \u001b[0;32mreturn\u001b[0m \u001b[0m_IncompatibleKeys\u001b[0m\u001b[0;34m(\u001b[0m\u001b[0mmissing_keys\u001b[0m\u001b[0;34m,\u001b[0m \u001b[0munexpected_keys\u001b[0m\u001b[0;34m)\u001b[0m\u001b[0;34m\u001b[0m\u001b[0;34m\u001b[0m\u001b[0m\n\u001b[1;32m   1485\u001b[0m \u001b[0;34m\u001b[0m\u001b[0m\n",
      "\u001b[0;31mRuntimeError\u001b[0m: Error(s) in loading state_dict for UNet_CNet:\n\tMissing key(s) in state_dict: \"inc.double_conv.0.weight\", \"inc.double_conv.1.weight\", \"inc.double_conv.1.bias\", \"inc.double_conv.1.running_mean\", \"inc.double_conv.1.running_var\", \"inc.double_conv.3.weight\", \"inc.double_conv.4.weight\", \"inc.double_conv.4.bias\", \"inc.double_conv.4.running_mean\", \"inc.double_conv.4.running_var\", \"down1.maxpool_conv.1.double_conv.0.weight\", \"down1.maxpool_conv.1.double_conv.1.weight\", \"down1.maxpool_conv.1.double_conv.1.bias\", \"down1.maxpool_conv.1.double_conv.1.running_mean\", \"down1.maxpool_conv.1.double_conv.1.running_var\", \"down1.maxpool_conv.1.double_conv.3.weight\", \"down1.maxpool_conv.1.double_conv.4.weight\", \"down1.maxpool_conv.1.double_conv.4.bias\", \"down1.maxpool_conv.1.double_conv.4.running_mean\", \"down1.maxpool_conv.1.double_conv.4.running_var\", \"down2.maxpool_conv.1.double_conv.0.weight\", \"down2.maxpool_conv.1.double_conv.1.weight\", \"down2.maxpool_conv.1.double_conv.1.bias\", \"down2.maxpool_conv.1.double_conv.1.running_mean\", \"down2.maxpool_conv.1.double_conv.1.running_var\", \"down2.maxpool_conv.1.double_conv.3.weight\", \"down2.maxpool_conv.1.double_conv.4.weight\", \"down2.maxpool_conv.1.double_conv.4.bias\", \"down2.maxpool_conv.1.double_conv.4.running_mean\", \"down2.maxpool_conv.1.double_conv.4.running_var\", \"down3.maxpool_conv.1.double_conv.0.weight\", \"down3.maxpool_conv.1.double_conv.1.weight\", \"down3.maxpool_conv.1.double_conv.1.bias\", \"down3.maxpool_conv.1.double_conv.1.running_mean\", \"down3.maxpool_conv.1.double_conv.1.running_var\", \"down3.maxpool_conv.1.double_conv.3.weight\", \"down3.maxpool_conv.1.double_conv.4.weight\", \"down3.maxpool_conv.1.double_conv.4.bias\", \"down3.maxpool_conv.1.double_conv.4.running_mean\", \"down3.maxpool_conv.1.double_conv.4.running_var\", \"down4.maxpool_conv.1.double_conv.0.weight\", \"down4.maxpool_conv.1.double_conv.1.weight\", \"down4.maxpool_conv.1.double_conv.1.bias\", \"down4.maxpool_conv.1.double_conv.1.running_mean\", \"down4.maxpool_conv.1.double_conv.1.running_var\", \"down4.maxpool_conv.1.double_conv.3.weight\", \"down4.maxpool_conv.1.double_conv.4.weight\", \"down4.maxpool_conv.1.double_conv.4.bias\", \"down4.maxpool_conv.1.double_conv.4.running_mean\", \"down4.maxpool_conv.1.double_conv.4.running_var\", \"cnet.fc1.weight\", \"cnet.fc1.bias\", \"cnet.fc2.weight\", \"cnet.fc2.bias\", \"up1.up.weight\", \"up1.up.bias\", \"up1.conv.double_conv.0.weight\", \"up1.conv.double_conv.1.weight\", \"up1.conv.double_conv.1.bias\", \"up1.conv.double_conv.1.running_mean\", \"up1.conv.double_conv.1.running_var\", \"up1.conv.double_conv.3.weight\", \"up1.conv.double_conv.4.weight\", \"up1.conv.double_conv.4.bias\", \"up1.conv.double_conv.4.running_mean\", \"up1.conv.double_conv.4.running_var\", \"up2.up.weight\", \"up2.up.bias\", \"up2.conv.double_conv.0.weight\", \"up2.conv.double_conv.1.weight\", \"up2.conv.double_conv.1.bias\", \"up2.conv.double_conv.1.running_mean\", \"up2.conv.double_conv.1.running_var\", \"up2.conv.double_conv.3.weight\", \"up2.conv.double_conv.4.weight\", \"up2.conv.double_conv.4.bias\", \"up2.conv.double_conv.4.running_mean\", \"up2.conv.double_conv.4.running_var\", \"up3.up.weight\", \"up3.up.bias\", \"up3.conv.double_conv.0.weight\", \"up3.conv.double_conv.1.weight\", \"up3.conv.double_conv.1.bias\", \"up3.conv.double_conv.1.running_mean\", \"up3.conv.double_conv.1.running_var\", \"up3.conv.double_conv.3.weight\", \"up3.conv.double_conv.4.weight\", \"up3.conv.double_conv.4.bias\", \"up3.conv.double_conv.4.running_mean\", \"up3.conv.double_conv.4.running_var\", \"up4.up.weight\", \"up4.up.bias\", \"up4.conv.double_conv.0.weight\", \"up4.conv.double_conv.1.weight\", \"up4.conv.double_conv.1.bias\", \"up4.conv.double_conv.1.running_mean\", \"up4.conv.double_conv.1.running_var\", \"up4.conv.double_conv.3.weight\", \"up4.conv.double_conv.4.weight\", \"up4.conv.double_conv.4.bias\", \"up4.conv.double_conv.4.running_mean\", \"up4.conv.double_conv.4.running_var\", \"outc.conv.weight\", \"outc.conv.bias\". \n\tUnexpected key(s) in state_dict: \"double_conv.0.weight\", \"double_conv.1.weight\", \"double_conv.1.bias\", \"double_conv.1.running_mean\", \"double_conv.1.running_var\", \"double_conv.1.num_batches_tracked\", \"double_conv.3.weight\", \"double_conv.4.weight\", \"double_conv.4.bias\", \"double_conv.4.running_mean\", \"double_conv.4.running_var\", \"double_conv.4.num_batches_tracked\", \"maxpool_conv.1.double_conv.0.weight\", \"maxpool_conv.1.double_conv.1.weight\", \"maxpool_conv.1.double_conv.1.bias\", \"maxpool_conv.1.double_conv.1.running_mean\", \"maxpool_conv.1.double_conv.1.running_var\", \"maxpool_conv.1.double_conv.1.num_batches_tracked\", \"maxpool_conv.1.double_conv.3.weight\", \"maxpool_conv.1.double_conv.4.weight\", \"maxpool_conv.1.double_conv.4.bias\", \"maxpool_conv.1.double_conv.4.running_mean\", \"maxpool_conv.1.double_conv.4.running_var\", \"maxpool_conv.1.double_conv.4.num_batches_tracked\", \"fc1.weight\", \"fc1.bias\", \"fc2.weight\", \"fc2.bias\", \"up.weight\", \"up.bias\", \"conv.double_conv.0.weight\", \"conv.double_conv.1.weight\", \"conv.double_conv.1.bias\", \"conv.double_conv.1.running_mean\", \"conv.double_conv.1.running_var\", \"conv.double_conv.1.num_batches_tracked\", \"conv.double_conv.3.weight\", \"conv.double_conv.4.weight\", \"conv.double_conv.4.bias\", \"conv.double_conv.4.running_mean\", \"conv.double_conv.4.running_var\", \"conv.double_conv.4.num_batches_tracked\", \"conv.weight\", \"conv.bias\". "
     ]
    }
   ],
   "source": [
    "#list(checkpoint['state_dict'].keys())\n",
    "from collections import OrderedDict\n",
    "\n",
    "new_sd = OrderedDict([\n",
    "    ('.'.join(k.split('.')[1:]), v) for k, v in checkpoint['state_dict'].items()\n",
    "])\n",
    "#print(checkpoint['state_dict'].keys())\n",
    "print(len(new_sd.keys()))\n",
    "print(len(checkpoint['state_dict'].items()))\n",
    "print(len(model.state_dict().keys()))\n",
    "\n",
    "model.load_state_dict(new_sd)\n",
    "#print(checkpoint['state_dict'].keys())\n",
    "#print(model.state_dict().keys())"
   ]
  },
  {
   "cell_type": "code",
   "execution_count": null,
   "metadata": {},
   "outputs": [],
   "source": []
  }
 ],
 "metadata": {
  "kernelspec": {
   "display_name": "Python 3.7.13 ('base')",
   "language": "python",
   "name": "python3"
  },
  "language_info": {
   "codemirror_mode": {
    "name": "ipython",
    "version": 3
   },
   "file_extension": ".py",
   "mimetype": "text/x-python",
   "name": "python",
   "nbconvert_exporter": "python",
   "pygments_lexer": "ipython3",
   "version": "3.7.11"
  },
  "orig_nbformat": 4,
  "vscode": {
   "interpreter": {
    "hash": "d4d1e4263499bec80672ea0156c357c1ee493ec2b1c70f0acce89fc37c4a6abe"
   }
  }
 },
 "nbformat": 4,
 "nbformat_minor": 2
}
