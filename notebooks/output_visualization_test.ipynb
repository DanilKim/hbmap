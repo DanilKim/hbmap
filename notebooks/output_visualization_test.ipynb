{
 "cells": [
  {
   "cell_type": "code",
   "execution_count": 1,
   "metadata": {},
   "outputs": [],
   "source": [
    "import os\n",
    "import glob\n",
    "import numpy as np\n",
    "from PIL import Image\n",
    "import matplotlib.pyplot as plt\n",
    "import random"
   ]
  },
  {
   "cell_type": "code",
   "execution_count": null,
   "metadata": {},
   "outputs": [],
   "source": [
    "# Visualize images\n",
    "data_dir = \"/data/test_images/\"\n",
    "\n",
    "img = np.array(Image.open(os.path.join(data_dir, \"10078.tiff\")))\n",
    "mask = np.array(Image.open(os.path.join(\"10078_output.png\")))\n",
    "\n",
    "print(f'filename: 10778')\n",
    "print(f'image min: {np.min(img)}, image max: {np.max(img)}')\n",
    "print(f'image shape: {img.shape} dtype: {img.dtype}')\n",
    "print(f'mask min: {np.min(mask)}, mask max: {np.max(mask)}')\n",
    "print(f'mask shape: {mask.shape} dtype: {img.dtype}')\n",
    "print(np.all((mask==1) | (mask==0)))\n",
    "\n",
    "plt.imshow(img)\n",
    "plt.show()\n",
    "\n",
    "plt.imshow(mask)\n",
    "plt.show()\n",
    "\n",
    "plt.imshow(img)\n",
    "plt.imshow(mask, alpha=0.2)\n",
    "plt.show()"
   ]
  }
 ],
 "metadata": {
  "kernelspec": {
   "display_name": "Python 3.7.13 ('base')",
   "language": "python",
   "name": "python3"
  },
  "language_info": {
   "codemirror_mode": {
    "name": "ipython",
    "version": 3
   },
   "file_extension": ".py",
   "mimetype": "text/x-python",
   "name": "python",
   "nbconvert_exporter": "python",
   "pygments_lexer": "ipython3",
   "version": "3.7.13"
  },
  "orig_nbformat": 4,
  "vscode": {
   "interpreter": {
    "hash": "d4d1e4263499bec80672ea0156c357c1ee493ec2b1c70f0acce89fc37c4a6abe"
   }
  }
 },
 "nbformat": 4,
 "nbformat_minor": 2
}
