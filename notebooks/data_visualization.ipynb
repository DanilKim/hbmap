{
 "cells": [
  {
   "cell_type": "code",
   "execution_count": 1,
   "metadata": {},
   "outputs": [],
   "source": [
    "import os\n",
    "import glob\n",
    "import numpy as np\n",
    "from PIL import Image\n",
    "import matplotlib.pyplot as plt"
   ]
  },
  {
   "cell_type": "code",
   "execution_count": null,
   "metadata": {},
   "outputs": [],
   "source": [
    "# Visualize images\n",
    "idx = 10\n",
    "data_dir = \"../data/train_images\"\n",
    "anno_dir = \"../data/train_labels/\"\n",
    "\n",
    "filenames = []\n",
    "for filename in glob.glob(os.path.join(data_dir, '*')):\n",
    "    filenames.append(filename.split('/')[-1].split('.')[0])\n",
    "\n",
    "img = np.array(Image.open(os.path.join(data_dir, \"%s.tiff\" % filenames[idx])))\n",
    "mask = np.array(Image.open(os.path.join(anno_dir, \"%s.png\" % filenames[idx])))\n",
    "\n",
    "print(np.min(mask), np.max(mask), mask.shape)\n",
    "print(filenames[idx])\n",
    "plt.imshow(img)\n",
    "plt.show()\n",
    "\n",
    "plt.imshow(img)\n",
    "plt.imshow(mask, alpha=0.2)\n",
    "plt.show()"
   ]
  }
 ],
 "metadata": {
  "kernelspec": {
   "display_name": "Python 3.7.13 ('base')",
   "language": "python",
   "name": "python3"
  },
  "language_info": {
   "codemirror_mode": {
    "name": "ipython",
    "version": 3
   },
   "file_extension": ".py",
   "mimetype": "text/x-python",
   "name": "python",
   "nbconvert_exporter": "python",
   "pygments_lexer": "ipython3",
   "version": "3.7.13"
  },
  "orig_nbformat": 4,
  "vscode": {
   "interpreter": {
    "hash": "d4d1e4263499bec80672ea0156c357c1ee493ec2b1c70f0acce89fc37c4a6abe"
   }
  }
 },
 "nbformat": 4,
 "nbformat_minor": 2
}
